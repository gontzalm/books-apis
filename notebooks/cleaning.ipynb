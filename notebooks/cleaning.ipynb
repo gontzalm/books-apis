{
 "metadata": {
  "language_info": {
   "codemirror_mode": {
    "name": "ipython",
    "version": 3
   },
   "file_extension": ".py",
   "mimetype": "text/x-python",
   "name": "python",
   "nbconvert_exporter": "python",
   "pygments_lexer": "ipython3",
   "version": "3.8.5-final"
  },
  "orig_nbformat": 2,
  "kernelspec": {
   "name": "python_defaultSpec_1600103510936",
   "display_name": "Python 3.8.5 64-bit"
  }
 },
 "nbformat": 4,
 "nbformat_minor": 2,
 "cells": [
  {
   "source": [
    "## Original Dataset Cleaning\n",
    "#### Import libraries and dataset"
   ],
   "cell_type": "markdown",
   "metadata": {}
  },
  {
   "cell_type": "code",
   "execution_count": 1,
   "metadata": {},
   "outputs": [],
   "source": [
    "import pandas as pd\n",
    "import re\n",
    "from src.cleanfuncs import parse_snake_case"
   ]
  },
  {
   "cell_type": "code",
   "execution_count": 2,
   "metadata": {},
   "outputs": [],
   "source": [
    "books = pd.read_csv(\"../input/goodreads.csv\")"
   ]
  },
  {
   "source": [
    "#### Explore the data"
   ],
   "cell_type": "markdown",
   "metadata": {}
  },
  {
   "cell_type": "code",
   "execution_count": 3,
   "metadata": {},
   "outputs": [
    {
     "output_type": "execute_result",
     "data": {
      "text/plain": "   bookID                                              title  \\\n0       1  Harry Potter and the Half-Blood Prince (Harry ...   \n1       2  Harry Potter and the Order of the Phoenix (Har...   \n2       3  Harry Potter and the Sorcerer's Stone (Harry P...   \n3       4  Harry Potter and the Chamber of Secrets (Harry...   \n4       5  Harry Potter and the Prisoner of Azkaban (Harr...   \n\n                      authors average_rating        isbn         isbn13  \\\n0  J.K. Rowling-Mary GrandPré           4.56   439785960  9780439785969   \n1  J.K. Rowling-Mary GrandPré           4.49   439358078  9780439358071   \n2  J.K. Rowling-Mary GrandPré           4.47   439554934  9780439554930   \n3                J.K. Rowling           4.41   439554896  9780439554893   \n4  J.K. Rowling-Mary GrandPré           4.55  043965548X  9780439655484   \n\n  language_code # num_pages  ratings_count  text_reviews_count  \n0           eng         652        1944099               26249  \n1           eng         870        1996446               27613  \n2           eng         320        5629932               70390  \n3           eng         352           6267                 272  \n4           eng         435        2149872               33964  ",
      "text/html": "<div>\n<style scoped>\n    .dataframe tbody tr th:only-of-type {\n        vertical-align: middle;\n    }\n\n    .dataframe tbody tr th {\n        vertical-align: top;\n    }\n\n    .dataframe thead th {\n        text-align: right;\n    }\n</style>\n<table border=\"1\" class=\"dataframe\">\n  <thead>\n    <tr style=\"text-align: right;\">\n      <th></th>\n      <th>bookID</th>\n      <th>title</th>\n      <th>authors</th>\n      <th>average_rating</th>\n      <th>isbn</th>\n      <th>isbn13</th>\n      <th>language_code</th>\n      <th># num_pages</th>\n      <th>ratings_count</th>\n      <th>text_reviews_count</th>\n    </tr>\n  </thead>\n  <tbody>\n    <tr>\n      <th>0</th>\n      <td>1</td>\n      <td>Harry Potter and the Half-Blood Prince (Harry ...</td>\n      <td>J.K. Rowling-Mary GrandPré</td>\n      <td>4.56</td>\n      <td>439785960</td>\n      <td>9780439785969</td>\n      <td>eng</td>\n      <td>652</td>\n      <td>1944099</td>\n      <td>26249</td>\n    </tr>\n    <tr>\n      <th>1</th>\n      <td>2</td>\n      <td>Harry Potter and the Order of the Phoenix (Har...</td>\n      <td>J.K. Rowling-Mary GrandPré</td>\n      <td>4.49</td>\n      <td>439358078</td>\n      <td>9780439358071</td>\n      <td>eng</td>\n      <td>870</td>\n      <td>1996446</td>\n      <td>27613</td>\n    </tr>\n    <tr>\n      <th>2</th>\n      <td>3</td>\n      <td>Harry Potter and the Sorcerer's Stone (Harry P...</td>\n      <td>J.K. Rowling-Mary GrandPré</td>\n      <td>4.47</td>\n      <td>439554934</td>\n      <td>9780439554930</td>\n      <td>eng</td>\n      <td>320</td>\n      <td>5629932</td>\n      <td>70390</td>\n    </tr>\n    <tr>\n      <th>3</th>\n      <td>4</td>\n      <td>Harry Potter and the Chamber of Secrets (Harry...</td>\n      <td>J.K. Rowling</td>\n      <td>4.41</td>\n      <td>439554896</td>\n      <td>9780439554893</td>\n      <td>eng</td>\n      <td>352</td>\n      <td>6267</td>\n      <td>272</td>\n    </tr>\n    <tr>\n      <th>4</th>\n      <td>5</td>\n      <td>Harry Potter and the Prisoner of Azkaban (Harr...</td>\n      <td>J.K. Rowling-Mary GrandPré</td>\n      <td>4.55</td>\n      <td>043965548X</td>\n      <td>9780439655484</td>\n      <td>eng</td>\n      <td>435</td>\n      <td>2149872</td>\n      <td>33964</td>\n    </tr>\n  </tbody>\n</table>\n</div>"
     },
     "metadata": {},
     "execution_count": 3
    }
   ],
   "source": [
    "books.head()"
   ]
  },
  {
   "cell_type": "code",
   "execution_count": 4,
   "metadata": {
    "tags": []
   },
   "outputs": [
    {
     "output_type": "stream",
     "name": "stdout",
     "text": "<class 'pandas.core.frame.DataFrame'>\nRangeIndex: 13719 entries, 0 to 13718\nData columns (total 10 columns):\n #   Column              Non-Null Count  Dtype \n---  ------              --------------  ----- \n 0   bookID              13719 non-null  int64 \n 1   title               13719 non-null  object\n 2   authors             13719 non-null  object\n 3   average_rating      13719 non-null  object\n 4   isbn                13719 non-null  object\n 5   isbn13              13719 non-null  object\n 6   language_code       13719 non-null  object\n 7   # num_pages         13719 non-null  object\n 8   ratings_count       13719 non-null  int64 \n 9   text_reviews_count  13719 non-null  int64 \ndtypes: int64(3), object(7)\nmemory usage: 1.0+ MB\n"
    }
   ],
   "source": [
    "books.info()"
   ]
  },
  {
   "source": [
    "#### Drop unnecessary columns"
   ],
   "cell_type": "markdown",
   "metadata": {}
  },
  {
   "cell_type": "code",
   "execution_count": 5,
   "metadata": {},
   "outputs": [
    {
     "output_type": "execute_result",
     "data": {
      "text/plain": "4            4\n60096683     1\n674705599    1\n851703682    1\n143038184    1\nName: isbn, dtype: int64"
     },
     "metadata": {},
     "execution_count": 5
    }
   ],
   "source": [
    "books[\"isbn\"].value_counts().head() # isbn values are not unique"
   ]
  },
  {
   "cell_type": "code",
   "execution_count": 6,
   "metadata": {},
   "outputs": [],
   "source": [
    "books.drop(columns=[\"bookID\", \"isbn\"] , inplace=True)"
   ]
  },
  {
   "source": [
    "#### Fix column dtypes"
   ],
   "cell_type": "markdown",
   "metadata": {}
  },
  {
   "cell_type": "code",
   "execution_count": 7,
   "metadata": {
    "tags": []
   },
   "outputs": [
    {
     "output_type": "stream",
     "name": "stdout",
     "text": "title                 object\nauthors               object\naverage_rating        object\nisbn13                object\nlanguage_code         object\n# num_pages           object\nratings_count          int64\ntext_reviews_count     int64\ndtype: object\n"
    }
   ],
   "source": [
    "print(books.dtypes)"
   ]
  },
  {
   "cell_type": "code",
   "execution_count": 8,
   "metadata": {},
   "outputs": [],
   "source": [
    "for col in [\"average_rating\", \"isbn13\", \"# num_pages\"]:\n",
    "    books[col] = pd.to_numeric(books[col], errors=\"coerce\") # \"coerce\" will return NaN for errors"
   ]
  },
  {
   "cell_type": "code",
   "execution_count": 9,
   "metadata": {},
   "outputs": [
    {
     "output_type": "execute_result",
     "data": {
      "text/plain": "title                 0\nauthors               0\naverage_rating        5\nisbn13                1\nlanguage_code         0\n# num_pages           5\nratings_count         0\ntext_reviews_count    0\ndtype: int64"
     },
     "metadata": {},
     "execution_count": 9
    }
   ],
   "source": [
    "books.isnull().sum()"
   ]
  },
  {
   "cell_type": "code",
   "execution_count": 10,
   "metadata": {},
   "outputs": [],
   "source": [
    "books.dropna(inplace=True)"
   ]
  },
  {
   "cell_type": "code",
   "execution_count": 11,
   "metadata": {},
   "outputs": [],
   "source": [
    "# repeat to_numeric(), this time converting to integer types correctly as there is no NaN values\n",
    "for col in [\"average_rating\", \"isbn13\", \"# num_pages\"]:\n",
    "    downcast = \"float\" if col == \"average_rating\" else \"unsigned\"\n",
    "    books[col] = pd.to_numeric(books[col], downcast=downcast)"
   ]
  },
  {
   "cell_type": "code",
   "execution_count": 12,
   "metadata": {},
   "outputs": [
    {
     "output_type": "execute_result",
     "data": {
      "text/plain": "title                  object\nauthors                object\naverage_rating        float32\nisbn13                 uint64\nlanguage_code          object\n# num_pages            uint16\nratings_count           int64\ntext_reviews_count      int64\ndtype: object"
     },
     "metadata": {},
     "execution_count": 12
    }
   ],
   "source": [
    "books.dtypes"
   ]
  },
  {
   "source": [
    "#### Set ISBN13 as dataframe index after checking uniqueness"
   ],
   "cell_type": "markdown",
   "metadata": {}
  },
  {
   "cell_type": "code",
   "execution_count": 13,
   "metadata": {},
   "outputs": [
    {
     "output_type": "execute_result",
     "data": {
      "text/plain": "True"
     },
     "metadata": {},
     "execution_count": 13
    }
   ],
   "source": [
    "books[\"isbn13\"].unique().size == books.shape[0]"
   ]
  },
  {
   "cell_type": "code",
   "execution_count": 14,
   "metadata": {},
   "outputs": [],
   "source": [
    "books.set_index(\"isbn13\", inplace=True)\n",
    "books.sort_index(inplace=True)\n",
    "books.index.name = \"ISBN\""
   ]
  },
  {
   "source": [
    "#### Convert author column to list of authors"
   ],
   "cell_type": "markdown",
   "metadata": {}
  },
  {
   "cell_type": "code",
   "execution_count": 15,
   "metadata": {},
   "outputs": [],
   "source": [
    "books[\"authors\"] = books[\"authors\"].str.split(\"-\").str.join(\", \")"
   ]
  },
  {
   "source": [
    "#### Convert different english speaking country language codes to \"eng\""
   ],
   "cell_type": "markdown",
   "metadata": {}
  },
  {
   "cell_type": "code",
   "execution_count": 16,
   "metadata": {},
   "outputs": [
    {
     "output_type": "execute_result",
     "data": {
      "text/plain": "eng      10594\nen-US     1699\nspa        419\nen-GB      341\nger        238\nfre        209\njpn         64\npor         27\nmul         21\nita         19\nzho         16\ngrc         12\nen-CA        9\nrus          7\nnl           7\nswe          6\nglg          4\ntur          3\nenm          3\ncat          3\nlat          3\nara          2\nsrp          1\nale          1\nmsa          1\nheb          1\ndan          1\nnor          1\nwel          1\ngla          1\nName: language_code, dtype: int64"
     },
     "metadata": {},
     "execution_count": 16
    }
   ],
   "source": [
    "books[\"language_code\"].value_counts()"
   ]
  },
  {
   "cell_type": "code",
   "execution_count": 17,
   "metadata": {},
   "outputs": [],
   "source": [
    "books[\"language_code\"] = books[\"language_code\"].str.replace(r\"en-\\w{2}\", \"eng\")"
   ]
  },
  {
   "source": [
    "#### Change column names to prettier format"
   ],
   "cell_type": "markdown",
   "metadata": {}
  },
  {
   "cell_type": "code",
   "execution_count": 18,
   "metadata": {},
   "outputs": [],
   "source": [
    "books.columns = [parse_snake_case(col) for col in books.columns]\n",
    "books.index.name = books.index.name.upper()  "
   ]
  },
  {
   "source": [
    "#### Show final dataframe and export to csv"
   ],
   "cell_type": "markdown",
   "metadata": {}
  },
  {
   "cell_type": "code",
   "execution_count": 19,
   "metadata": {},
   "outputs": [
    {
     "output_type": "execute_result",
     "data": {
      "text/plain": "                                                         Title  \\\nISBN                                                             \n8987059752         The World's First Love: Mary  Mother of God   \n20049130001                                     The Illuminati   \n23755004321                                 The Servant Leader   \n34406054602  What Life Was Like in the Jewel in the Crown: ...   \n49086007763  Cliffs Notes on Aristophanes' Lysistrata  The ...   \n\n                          Authors  Average Rating Language Code  Num Pages  \\\nISBN                                                                         \n8987059752        Fulton J. Sheen            4.58           eng        276   \n20049130001         Larry Burkett            3.71           eng        352   \n23755004321  Kenneth H. Blanchard            4.07           eng        128   \n34406054602      Time, Life Books            3.64           eng        168   \n49086007763      W. John Campbell            2.33           eng         80   \n\n             Ratings Count  Text Reviews Count  \nISBN                                            \n8987059752             571                  55  \n20049130001             59                   8  \n23755004321            256                  24  \n34406054602             42                   4  \n49086007763              3                   0  ",
      "text/html": "<div>\n<style scoped>\n    .dataframe tbody tr th:only-of-type {\n        vertical-align: middle;\n    }\n\n    .dataframe tbody tr th {\n        vertical-align: top;\n    }\n\n    .dataframe thead th {\n        text-align: right;\n    }\n</style>\n<table border=\"1\" class=\"dataframe\">\n  <thead>\n    <tr style=\"text-align: right;\">\n      <th></th>\n      <th>Title</th>\n      <th>Authors</th>\n      <th>Average Rating</th>\n      <th>Language Code</th>\n      <th>Num Pages</th>\n      <th>Ratings Count</th>\n      <th>Text Reviews Count</th>\n    </tr>\n    <tr>\n      <th>ISBN</th>\n      <th></th>\n      <th></th>\n      <th></th>\n      <th></th>\n      <th></th>\n      <th></th>\n      <th></th>\n    </tr>\n  </thead>\n  <tbody>\n    <tr>\n      <th>8987059752</th>\n      <td>The World's First Love: Mary  Mother of God</td>\n      <td>Fulton J. Sheen</td>\n      <td>4.58</td>\n      <td>eng</td>\n      <td>276</td>\n      <td>571</td>\n      <td>55</td>\n    </tr>\n    <tr>\n      <th>20049130001</th>\n      <td>The Illuminati</td>\n      <td>Larry Burkett</td>\n      <td>3.71</td>\n      <td>eng</td>\n      <td>352</td>\n      <td>59</td>\n      <td>8</td>\n    </tr>\n    <tr>\n      <th>23755004321</th>\n      <td>The Servant Leader</td>\n      <td>Kenneth H. Blanchard</td>\n      <td>4.07</td>\n      <td>eng</td>\n      <td>128</td>\n      <td>256</td>\n      <td>24</td>\n    </tr>\n    <tr>\n      <th>34406054602</th>\n      <td>What Life Was Like in the Jewel in the Crown: ...</td>\n      <td>Time, Life Books</td>\n      <td>3.64</td>\n      <td>eng</td>\n      <td>168</td>\n      <td>42</td>\n      <td>4</td>\n    </tr>\n    <tr>\n      <th>49086007763</th>\n      <td>Cliffs Notes on Aristophanes' Lysistrata  The ...</td>\n      <td>W. John Campbell</td>\n      <td>2.33</td>\n      <td>eng</td>\n      <td>80</td>\n      <td>3</td>\n      <td>0</td>\n    </tr>\n  </tbody>\n</table>\n</div>"
     },
     "metadata": {},
     "execution_count": 19
    }
   ],
   "source": [
    "books.head()"
   ]
  },
  {
   "cell_type": "code",
   "execution_count": 20,
   "metadata": {},
   "outputs": [],
   "source": [
    "books.to_csv(\"../output/books_clean.csv\")"
   ]
  },
  {
   "source": [
    "#### Search dataset for data science books"
   ],
   "cell_type": "markdown",
   "metadata": {}
  },
  {
   "cell_type": "code",
   "execution_count": 21,
   "metadata": {},
   "outputs": [
    {
     "output_type": "execute_result",
     "data": {
      "text/plain": "                                                           Title  \\\nISBN                                                               \n9780312311452           The Pythons Autobiography by The Pythons   \n9780679726470  The Complete Monty Python's Flying Circus: All...   \n9780679726487  The Complete Monty Python's Flying Circus: All...   \n9780752852423           The Pythons Autobiography by The Pythons   \n\n                                                         Authors  \\\nISBN                                                               \n9780312311452  Graham Chapman, John Cleese, Terry Gilliam, Er...   \n9780679726470  Graham Chapman, Eric Idle, Terry Gilliam, John...   \n9780679726487  Graham Chapman, John Cleese, Terry Gilliam, Er...   \n9780752852423       Michael Palin, Terry Gilliam, Graham Chapman   \n\n               Average Rating Language Code  Num Pages  Ratings Count  \\\nISBN                                                                    \n9780312311452            4.08           eng        368             73   \n9780679726470            4.38           eng        352           3129   \n9780679726487            4.44           eng        384           1191   \n9780752852423            4.08           eng        359             17   \n\n               Text Reviews Count  \nISBN                               \n9780312311452                  11  \n9780679726470                  38  \n9780679726487                  18  \n9780752852423                   1  ",
      "text/html": "<div>\n<style scoped>\n    .dataframe tbody tr th:only-of-type {\n        vertical-align: middle;\n    }\n\n    .dataframe tbody tr th {\n        vertical-align: top;\n    }\n\n    .dataframe thead th {\n        text-align: right;\n    }\n</style>\n<table border=\"1\" class=\"dataframe\">\n  <thead>\n    <tr style=\"text-align: right;\">\n      <th></th>\n      <th>Title</th>\n      <th>Authors</th>\n      <th>Average Rating</th>\n      <th>Language Code</th>\n      <th>Num Pages</th>\n      <th>Ratings Count</th>\n      <th>Text Reviews Count</th>\n    </tr>\n    <tr>\n      <th>ISBN</th>\n      <th></th>\n      <th></th>\n      <th></th>\n      <th></th>\n      <th></th>\n      <th></th>\n      <th></th>\n    </tr>\n  </thead>\n  <tbody>\n    <tr>\n      <th>9780312311452</th>\n      <td>The Pythons Autobiography by The Pythons</td>\n      <td>Graham Chapman, John Cleese, Terry Gilliam, Er...</td>\n      <td>4.08</td>\n      <td>eng</td>\n      <td>368</td>\n      <td>73</td>\n      <td>11</td>\n    </tr>\n    <tr>\n      <th>9780679726470</th>\n      <td>The Complete Monty Python's Flying Circus: All...</td>\n      <td>Graham Chapman, Eric Idle, Terry Gilliam, John...</td>\n      <td>4.38</td>\n      <td>eng</td>\n      <td>352</td>\n      <td>3129</td>\n      <td>38</td>\n    </tr>\n    <tr>\n      <th>9780679726487</th>\n      <td>The Complete Monty Python's Flying Circus: All...</td>\n      <td>Graham Chapman, John Cleese, Terry Gilliam, Er...</td>\n      <td>4.44</td>\n      <td>eng</td>\n      <td>384</td>\n      <td>1191</td>\n      <td>18</td>\n    </tr>\n    <tr>\n      <th>9780752852423</th>\n      <td>The Pythons Autobiography by The Pythons</td>\n      <td>Michael Palin, Terry Gilliam, Graham Chapman</td>\n      <td>4.08</td>\n      <td>eng</td>\n      <td>359</td>\n      <td>17</td>\n      <td>1</td>\n    </tr>\n  </tbody>\n</table>\n</div>"
     },
     "metadata": {},
     "execution_count": 21
    }
   ],
   "source": [
    "books[books[\"Title\"].str.contains(r\"python\", flags=re.IGNORECASE)]"
   ]
  },
  {
   "cell_type": "code",
   "execution_count": 22,
   "metadata": {},
   "outputs": [
    {
     "output_type": "execute_result",
     "data": {
      "text/plain": "Empty DataFrame\nColumns: [Title, Authors, Average Rating, Language Code, Num Pages, Ratings Count, Text Reviews Count]\nIndex: []",
      "text/html": "<div>\n<style scoped>\n    .dataframe tbody tr th:only-of-type {\n        vertical-align: middle;\n    }\n\n    .dataframe tbody tr th {\n        vertical-align: top;\n    }\n\n    .dataframe thead th {\n        text-align: right;\n    }\n</style>\n<table border=\"1\" class=\"dataframe\">\n  <thead>\n    <tr style=\"text-align: right;\">\n      <th></th>\n      <th>Title</th>\n      <th>Authors</th>\n      <th>Average Rating</th>\n      <th>Language Code</th>\n      <th>Num Pages</th>\n      <th>Ratings Count</th>\n      <th>Text Reviews Count</th>\n    </tr>\n    <tr>\n      <th>ISBN</th>\n      <th></th>\n      <th></th>\n      <th></th>\n      <th></th>\n      <th></th>\n      <th></th>\n      <th></th>\n    </tr>\n  </thead>\n  <tbody>\n  </tbody>\n</table>\n</div>"
     },
     "metadata": {},
     "execution_count": 22
    }
   ],
   "source": [
    "books[books[\"Title\"].str.contains(r\"data science\", flags=re.IGNORECASE)]"
   ]
  },
  {
   "cell_type": "code",
   "execution_count": 23,
   "metadata": {},
   "outputs": [
    {
     "output_type": "execute_result",
     "data": {
      "text/plain": "Empty DataFrame\nColumns: [Title, Authors, Average Rating, Language Code, Num Pages, Ratings Count, Text Reviews Count]\nIndex: []",
      "text/html": "<div>\n<style scoped>\n    .dataframe tbody tr th:only-of-type {\n        vertical-align: middle;\n    }\n\n    .dataframe tbody tr th {\n        vertical-align: top;\n    }\n\n    .dataframe thead th {\n        text-align: right;\n    }\n</style>\n<table border=\"1\" class=\"dataframe\">\n  <thead>\n    <tr style=\"text-align: right;\">\n      <th></th>\n      <th>Title</th>\n      <th>Authors</th>\n      <th>Average Rating</th>\n      <th>Language Code</th>\n      <th>Num Pages</th>\n      <th>Ratings Count</th>\n      <th>Text Reviews Count</th>\n    </tr>\n    <tr>\n      <th>ISBN</th>\n      <th></th>\n      <th></th>\n      <th></th>\n      <th></th>\n      <th></th>\n      <th></th>\n      <th></th>\n    </tr>\n  </thead>\n  <tbody>\n  </tbody>\n</table>\n</div>"
     },
     "metadata": {},
     "execution_count": 23
    }
   ],
   "source": [
    "books[books[\"Title\"].str.contains(r\"data analysis\", flags=re.IGNORECASE)]"
   ]
  },
  {
   "cell_type": "code",
   "execution_count": 24,
   "metadata": {},
   "outputs": [
    {
     "output_type": "execute_result",
     "data": {
      "text/plain": "Empty DataFrame\nColumns: [Title, Authors, Average Rating, Language Code, Num Pages, Ratings Count, Text Reviews Count]\nIndex: []",
      "text/html": "<div>\n<style scoped>\n    .dataframe tbody tr th:only-of-type {\n        vertical-align: middle;\n    }\n\n    .dataframe tbody tr th {\n        vertical-align: top;\n    }\n\n    .dataframe thead th {\n        text-align: right;\n    }\n</style>\n<table border=\"1\" class=\"dataframe\">\n  <thead>\n    <tr style=\"text-align: right;\">\n      <th></th>\n      <th>Title</th>\n      <th>Authors</th>\n      <th>Average Rating</th>\n      <th>Language Code</th>\n      <th>Num Pages</th>\n      <th>Ratings Count</th>\n      <th>Text Reviews Count</th>\n    </tr>\n    <tr>\n      <th>ISBN</th>\n      <th></th>\n      <th></th>\n      <th></th>\n      <th></th>\n      <th></th>\n      <th></th>\n      <th></th>\n    </tr>\n  </thead>\n  <tbody>\n  </tbody>\n</table>\n</div>"
     },
     "metadata": {},
     "execution_count": 24
    }
   ],
   "source": [
    "books[books[\"Title\"].str.contains(r\"machine learning\", flags=re.IGNORECASE)]"
   ]
  }
 ]
}