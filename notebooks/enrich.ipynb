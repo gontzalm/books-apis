{
 "metadata": {
  "language_info": {
   "codemirror_mode": {
    "name": "ipython",
    "version": 3
   },
   "file_extension": ".py",
   "mimetype": "text/x-python",
   "name": "python",
   "nbconvert_exporter": "python",
   "pygments_lexer": "ipython3",
   "version": "3.8.5-final"
  },
  "orig_nbformat": 2,
  "kernelspec": {
   "name": "python_defaultSpec_1600089892181",
   "display_name": "Python 3.8.5 64-bit ('ih': conda)"
  }
 },
 "nbformat": 4,
 "nbformat_minor": 2,
 "cells": [
  {
   "source": [
    "## Dataset Enreaching\n",
    "#### Import libraries and clean dataset"
   ],
   "cell_type": "markdown",
   "metadata": {}
  },
  {
   "cell_type": "code",
   "execution_count": 1,
   "metadata": {},
   "outputs": [],
   "source": [
    "from dotenv import load_dotenv\n",
    "import os\n",
    "import pandas as pd\n",
    "import requests"
   ]
  },
  {
   "cell_type": "code",
   "execution_count": 2,
   "metadata": {},
   "outputs": [],
   "source": [
    "load_dotenv()\n",
    "APIKEY = os.getenv(\"APIKEY\")"
   ]
  },
  {
   "cell_type": "code",
   "execution_count": 3,
   "metadata": {},
   "outputs": [
    {
     "output_type": "execute_result",
     "data": {
      "text/plain": "                                                         Title  \\\nISBN13                                                           \n8987059752         The World's First Love: Mary  Mother of God   \n20049130001                                     The Illuminati   \n23755004321                                 The Servant Leader   \n34406054602  What Life Was Like in the Jewel in the Crown: ...   \n49086007763  Cliffs Notes on Aristophanes' Lysistrata  The ...   \n\n                          Authors  Average Rating Language Code  Num Pages  \\\nISBN13                                                                       \n8987059752        Fulton J. Sheen            4.58           eng        276   \n20049130001         Larry Burkett            3.71           eng        352   \n23755004321  Kenneth H. Blanchard            4.07           eng        128   \n34406054602      Time, Life Books            3.64           eng        168   \n49086007763      W. John Campbell            2.33           eng         80   \n\n             Ratings Count  Text Reviews Count  \nISBN13                                          \n8987059752             571                  55  \n20049130001             59                   8  \n23755004321            256                  24  \n34406054602             42                   4  \n49086007763              3                   0  ",
      "text/html": "<div>\n<style scoped>\n    .dataframe tbody tr th:only-of-type {\n        vertical-align: middle;\n    }\n\n    .dataframe tbody tr th {\n        vertical-align: top;\n    }\n\n    .dataframe thead th {\n        text-align: right;\n    }\n</style>\n<table border=\"1\" class=\"dataframe\">\n  <thead>\n    <tr style=\"text-align: right;\">\n      <th></th>\n      <th>Title</th>\n      <th>Authors</th>\n      <th>Average Rating</th>\n      <th>Language Code</th>\n      <th>Num Pages</th>\n      <th>Ratings Count</th>\n      <th>Text Reviews Count</th>\n    </tr>\n    <tr>\n      <th>ISBN13</th>\n      <th></th>\n      <th></th>\n      <th></th>\n      <th></th>\n      <th></th>\n      <th></th>\n      <th></th>\n    </tr>\n  </thead>\n  <tbody>\n    <tr>\n      <th>8987059752</th>\n      <td>The World's First Love: Mary  Mother of God</td>\n      <td>Fulton J. Sheen</td>\n      <td>4.58</td>\n      <td>eng</td>\n      <td>276</td>\n      <td>571</td>\n      <td>55</td>\n    </tr>\n    <tr>\n      <th>20049130001</th>\n      <td>The Illuminati</td>\n      <td>Larry Burkett</td>\n      <td>3.71</td>\n      <td>eng</td>\n      <td>352</td>\n      <td>59</td>\n      <td>8</td>\n    </tr>\n    <tr>\n      <th>23755004321</th>\n      <td>The Servant Leader</td>\n      <td>Kenneth H. Blanchard</td>\n      <td>4.07</td>\n      <td>eng</td>\n      <td>128</td>\n      <td>256</td>\n      <td>24</td>\n    </tr>\n    <tr>\n      <th>34406054602</th>\n      <td>What Life Was Like in the Jewel in the Crown: ...</td>\n      <td>Time, Life Books</td>\n      <td>3.64</td>\n      <td>eng</td>\n      <td>168</td>\n      <td>42</td>\n      <td>4</td>\n    </tr>\n    <tr>\n      <th>49086007763</th>\n      <td>Cliffs Notes on Aristophanes' Lysistrata  The ...</td>\n      <td>W. John Campbell</td>\n      <td>2.33</td>\n      <td>eng</td>\n      <td>80</td>\n      <td>3</td>\n      <td>0</td>\n    </tr>\n  </tbody>\n</table>\n</div>"
     },
     "metadata": {},
     "execution_count": 3
    }
   ],
   "source": [
    "books = pd.read_csv(\"../output/books_clean.csv\", index_col=\"ISBN13\")\n",
    "books.head()"
   ]
  },
  {
   "source": [
    "#### Add books via O'Reilly Search API"
   ],
   "cell_type": "markdown",
   "metadata": {}
  },
  {
   "cell_type": "code",
   "execution_count": null,
   "metadata": {},
   "outputs": [],
   "source": [
    "base_url = \"https://learning.oreilly.com\"\n",
    "endpoint = \"/api/v2/search\""
   ]
  },
  {
   "cell_type": "code",
   "execution_count": null,
   "metadata": {},
   "outputs": [],
   "source": [
    "params = {\n",
    "    \"query\": \"python\",\n",
    "    \"field\": \"title\", \n",
    "    \"formats\": \"book\", \n",
    "    \"limit\":200,\n",
    "    \"fields\": [\"isbn\", \"title\", \"authors\", \"language\", \"virtual_pages\"]\n",
    "}"
   ]
  },
  {
   "cell_type": "code",
   "execution_count": null,
   "metadata": {},
   "outputs": [],
   "source": [
    "res = requests.get(f\"{base_url}{endpoint}\", params=params)"
   ]
  },
  {
   "cell_type": "code",
   "execution_count": null,
   "metadata": {},
   "outputs": [],
   "source": [
    "res = res.json()"
   ]
  },
  {
   "cell_type": "code",
   "execution_count": null,
   "metadata": {},
   "outputs": [],
   "source": [
    "res.keys()"
   ]
  },
  {
   "cell_type": "code",
   "execution_count": null,
   "metadata": {},
   "outputs": [],
   "source": [
    "pd.json_normalize(res[\"results\"])"
   ]
  },
  {
   "source": [
    "#### Goodreads"
   ],
   "cell_type": "markdown",
   "metadata": {}
  },
  {
   "cell_type": "code",
   "execution_count": null,
   "metadata": {},
   "outputs": [],
   "source": [
    "base_url = \"https://www.goodreads.com\""
   ]
  },
  {
   "cell_type": "code",
   "execution_count": null,
   "metadata": {},
   "outputs": [],
   "source": [
    "endpoint = \"/book/review_counts\"\n",
    "    # key: Developer key (required).\n",
    "    # isbns: Array of ISBNs or a comma separated string of ISBNs (1000 ISBNs per request max.)\n",
    "    # format: json\n",
    "    # callback: function to wrap JSON response"
   ]
  },
  {
   "cell_type": "code",
   "execution_count": null,
   "metadata": {},
   "outputs": [],
   "source": [
    "params = {\"key\": APIKEY, \"format\": \"json\", \"isbns\": 9781593276034}"
   ]
  },
  {
   "cell_type": "code",
   "execution_count": null,
   "metadata": {},
   "outputs": [],
   "source": [
    "res = requests.get(f\"{base_url}{endpoint}\", params=params)"
   ]
  },
  {
   "cell_type": "code",
   "execution_count": null,
   "metadata": {},
   "outputs": [],
   "source": [
    "data = res.json()"
   ]
  },
  {
   "cell_type": "code",
   "execution_count": null,
   "metadata": {},
   "outputs": [],
   "source": [
    "data"
   ]
  },
  {
   "cell_type": "code",
   "execution_count": null,
   "metadata": {},
   "outputs": [],
   "source": []
  }
 ]
}