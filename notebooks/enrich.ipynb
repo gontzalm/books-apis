{
 "metadata": {
  "language_info": {
   "codemirror_mode": {
    "name": "ipython",
    "version": 3
   },
   "file_extension": ".py",
   "mimetype": "text/x-python",
   "name": "python",
   "nbconvert_exporter": "python",
   "pygments_lexer": "ipython3",
   "version": "3.8.5-final"
  },
  "orig_nbformat": 2,
  "kernelspec": {
   "name": "python_defaultSpec_1600089892181",
   "display_name": "Python 3.8.5 64-bit ('ih': conda)"
  }
 },
 "nbformat": 4,
 "nbformat_minor": 2,
 "cells": [
  {
   "source": [
    "## Dataset Enreaching\n",
    "#### Import libraries and clean dataset"
   ],
   "cell_type": "markdown",
   "metadata": {}
  },
  {
   "cell_type": "code",
   "execution_count": 1,
   "metadata": {},
   "outputs": [],
   "source": [
    "from dotenv import load_dotenv\n",
    "import os\n",
    "import pandas as pd\n",
    "import requests"
   ]
  },
  {
   "cell_type": "code",
   "execution_count": 2,
   "metadata": {},
   "outputs": [],
   "source": [
    "load_dotenv()\n",
    "APIKEY = os.getenv(\"APIKEY\")"
   ]
  },
  {
   "cell_type": "code",
   "execution_count": 3,
   "metadata": {},
   "outputs": [
    {
     "output_type": "execute_result",
     "data": {
      "text/plain": "                                                         Title  \\\nISBN13                                                           \n8987059752         The World's First Love: Mary  Mother of God   \n20049130001                                     The Illuminati   \n23755004321                                 The Servant Leader   \n34406054602  What Life Was Like in the Jewel in the Crown: ...   \n49086007763  Cliffs Notes on Aristophanes' Lysistrata  The ...   \n\n                          Authors  Average Rating Language Code  Num Pages  \\\nISBN13                                                                       \n8987059752        Fulton J. Sheen            4.58           eng        276   \n20049130001         Larry Burkett            3.71           eng        352   \n23755004321  Kenneth H. Blanchard            4.07           eng        128   \n34406054602      Time, Life Books            3.64           eng        168   \n49086007763      W. John Campbell            2.33           eng         80   \n\n             Ratings Count  Text Reviews Count  \nISBN13                                          \n8987059752             571                  55  \n20049130001             59                   8  \n23755004321            256                  24  \n34406054602             42                   4  \n49086007763              3                   0  ",
      "text/html": "<div>\n<style scoped>\n    .dataframe tbody tr th:only-of-type {\n        vertical-align: middle;\n    }\n\n    .dataframe tbody tr th {\n        vertical-align: top;\n    }\n\n    .dataframe thead th {\n        text-align: right;\n    }\n</style>\n<table border=\"1\" class=\"dataframe\">\n  <thead>\n    <tr style=\"text-align: right;\">\n      <th></th>\n      <th>Title</th>\n      <th>Authors</th>\n      <th>Average Rating</th>\n      <th>Language Code</th>\n      <th>Num Pages</th>\n      <th>Ratings Count</th>\n      <th>Text Reviews Count</th>\n    </tr>\n    <tr>\n      <th>ISBN13</th>\n      <th></th>\n      <th></th>\n      <th></th>\n      <th></th>\n      <th></th>\n      <th></th>\n      <th></th>\n    </tr>\n  </thead>\n  <tbody>\n    <tr>\n      <th>8987059752</th>\n      <td>The World's First Love: Mary  Mother of God</td>\n      <td>Fulton J. Sheen</td>\n      <td>4.58</td>\n      <td>eng</td>\n      <td>276</td>\n      <td>571</td>\n      <td>55</td>\n    </tr>\n    <tr>\n      <th>20049130001</th>\n      <td>The Illuminati</td>\n      <td>Larry Burkett</td>\n      <td>3.71</td>\n      <td>eng</td>\n      <td>352</td>\n      <td>59</td>\n      <td>8</td>\n    </tr>\n    <tr>\n      <th>23755004321</th>\n      <td>The Servant Leader</td>\n      <td>Kenneth H. Blanchard</td>\n      <td>4.07</td>\n      <td>eng</td>\n      <td>128</td>\n      <td>256</td>\n      <td>24</td>\n    </tr>\n    <tr>\n      <th>34406054602</th>\n      <td>What Life Was Like in the Jewel in the Crown: ...</td>\n      <td>Time, Life Books</td>\n      <td>3.64</td>\n      <td>eng</td>\n      <td>168</td>\n      <td>42</td>\n      <td>4</td>\n    </tr>\n    <tr>\n      <th>49086007763</th>\n      <td>Cliffs Notes on Aristophanes' Lysistrata  The ...</td>\n      <td>W. John Campbell</td>\n      <td>2.33</td>\n      <td>eng</td>\n      <td>80</td>\n      <td>3</td>\n      <td>0</td>\n    </tr>\n  </tbody>\n</table>\n</div>"
     },
     "metadata": {},
     "execution_count": 3
    }
   ],
   "source": [
    "books = pd.read_csv(\"../output/books_clean.csv\", index_col=\"ISBN13\")\n",
    "books.head()"
   ]
  },
  {
   "source": [
    "#### Add books via O'Reilly Search API"
   ],
   "cell_type": "markdown",
   "metadata": {}
  },
  {
   "cell_type": "code",
   "execution_count": 17,
   "metadata": {},
   "outputs": [],
   "source": [
    "base_url = \"https://learning.oreilly.com\"\n",
    "endpoint = \"/api/v2/search\""
   ]
  },
  {
   "cell_type": "code",
   "execution_count": 25,
   "metadata": {},
   "outputs": [],
   "source": [
    "params = {\n",
    "    \"query\": \"python\",\n",
    "    \"field\": \"title\", \n",
    "    \"formats\": \"book\",\n",
    "    \"page\": 0,\n",
    "    \"limit\":200,\n",
    "    \"fields\": [\"isbn\", \"title\", \"authors\", \"language\", \"virtual_pages\"]\n",
    "}"
   ]
  },
  {
   "cell_type": "code",
   "execution_count": 26,
   "metadata": {},
   "outputs": [],
   "source": [
    "res = requests.get(f\"{base_url}{endpoint}\", params=params)"
   ]
  },
  {
   "cell_type": "code",
   "execution_count": 27,
   "metadata": {},
   "outputs": [
    {
     "output_type": "execute_result",
     "data": {
      "text/plain": "200"
     },
     "metadata": {},
     "execution_count": 27
    }
   ],
   "source": [
    "res.status_code"
   ]
  },
  {
   "cell_type": "code",
   "execution_count": 20,
   "metadata": {},
   "outputs": [],
   "source": [
    "res = res.json()"
   ]
  },
  {
   "cell_type": "code",
   "execution_count": null,
   "metadata": {},
   "outputs": [],
   "source": []
  },
  {
   "cell_type": "code",
   "execution_count": 21,
   "metadata": {},
   "outputs": [
    {
     "output_type": "execute_result",
     "data": {
      "text/plain": "dict_keys(['results', 'facets', 'total', 'meta', 'page', 'previous', 'next'])"
     },
     "metadata": {},
     "execution_count": 21
    }
   ],
   "source": [
    "res.keys()"
   ]
  },
  {
   "cell_type": "code",
   "execution_count": 14,
   "metadata": {},
   "outputs": [],
   "source": [
    "data1 = pd.DataFrame(res[\"results\"])"
   ]
  },
  {
   "cell_type": "code",
   "execution_count": 35,
   "metadata": {},
   "outputs": [],
   "source": [
    "data1 = data1.set_index(\"isbn\").drop(columns=\"id\")"
   ]
  },
  {
   "cell_type": "code",
   "execution_count": 40,
   "metadata": {},
   "outputs": [],
   "source": [
    "data1.columns = [\"Authors\", \"Language Code\", \"Title\", \"Num Pages\"]"
   ]
  },
  {
   "cell_type": "code",
   "execution_count": 44,
   "metadata": {},
   "outputs": [
    {
     "output_type": "execute_result",
     "data": {
      "text/plain": "                                                     Authors Language Code  \\\nisbn                                                                         \n9781680502404                                  [Brian Okken]           eng   \n9781789804744                      [Alex Galea, Luis Capelo]           eng   \n9780133354461                             [Katie Cunningham]           eng   \n9780321635518                             [Mark Summerfield]           eng   \n9780135231364                [Paul J. Deitel, Harvey Deitel]           eng   \n...                                                      ...           ...   \n9781785883804                               [Osvaldo Martin]           eng   \n9781317206439                           [Edwin S. Dalmaijer]           eng   \n9781783553297  [Magnus Vilhelm Persson, Luiz Felipe Martins]           eng   \n9781718500525                                [Yuli Vasiliev]           eng   \n9781430232377                           [Magnus Lie Hetland]           eng   \n\n                                                           Title  Num Pages  \nisbn                                                                         \n9781680502404                         Python Testing with pytest        262  \n9781789804744                  Applied Deep Learning with Python        383  \n9780133354461  Python in 24 Hours, Sams Teach Yourself, Secon...        436  \n9780321635518           Advanced Python 3 Programming Techniques         97  \n9780135231364                             Python for Programmers       1243  \n...                                                          ...        ...  \n9781785883804                      Bayesian Analysis with Python        364  \n9781317206439              Python for Experimental Psychologists        301  \n9781783553297                     Mastering Python Data Analysis        333  \n9781718500525  Natural Language Processing with Python and spaCy        283  \n9781430232377  Python Algorithms: Mastering Basic Algorithms ...        624  \n\n[200 rows x 4 columns]",
      "text/html": "<div>\n<style scoped>\n    .dataframe tbody tr th:only-of-type {\n        vertical-align: middle;\n    }\n\n    .dataframe tbody tr th {\n        vertical-align: top;\n    }\n\n    .dataframe thead th {\n        text-align: right;\n    }\n</style>\n<table border=\"1\" class=\"dataframe\">\n  <thead>\n    <tr style=\"text-align: right;\">\n      <th></th>\n      <th>Authors</th>\n      <th>Language Code</th>\n      <th>Title</th>\n      <th>Num Pages</th>\n    </tr>\n    <tr>\n      <th>isbn</th>\n      <th></th>\n      <th></th>\n      <th></th>\n      <th></th>\n    </tr>\n  </thead>\n  <tbody>\n    <tr>\n      <th>9781680502404</th>\n      <td>[Brian Okken]</td>\n      <td>eng</td>\n      <td>Python Testing with pytest</td>\n      <td>262</td>\n    </tr>\n    <tr>\n      <th>9781789804744</th>\n      <td>[Alex Galea, Luis Capelo]</td>\n      <td>eng</td>\n      <td>Applied Deep Learning with Python</td>\n      <td>383</td>\n    </tr>\n    <tr>\n      <th>9780133354461</th>\n      <td>[Katie Cunningham]</td>\n      <td>eng</td>\n      <td>Python in 24 Hours, Sams Teach Yourself, Secon...</td>\n      <td>436</td>\n    </tr>\n    <tr>\n      <th>9780321635518</th>\n      <td>[Mark Summerfield]</td>\n      <td>eng</td>\n      <td>Advanced Python 3 Programming Techniques</td>\n      <td>97</td>\n    </tr>\n    <tr>\n      <th>9780135231364</th>\n      <td>[Paul J. Deitel, Harvey Deitel]</td>\n      <td>eng</td>\n      <td>Python for Programmers</td>\n      <td>1243</td>\n    </tr>\n    <tr>\n      <th>...</th>\n      <td>...</td>\n      <td>...</td>\n      <td>...</td>\n      <td>...</td>\n    </tr>\n    <tr>\n      <th>9781785883804</th>\n      <td>[Osvaldo Martin]</td>\n      <td>eng</td>\n      <td>Bayesian Analysis with Python</td>\n      <td>364</td>\n    </tr>\n    <tr>\n      <th>9781317206439</th>\n      <td>[Edwin S. Dalmaijer]</td>\n      <td>eng</td>\n      <td>Python for Experimental Psychologists</td>\n      <td>301</td>\n    </tr>\n    <tr>\n      <th>9781783553297</th>\n      <td>[Magnus Vilhelm Persson, Luiz Felipe Martins]</td>\n      <td>eng</td>\n      <td>Mastering Python Data Analysis</td>\n      <td>333</td>\n    </tr>\n    <tr>\n      <th>9781718500525</th>\n      <td>[Yuli Vasiliev]</td>\n      <td>eng</td>\n      <td>Natural Language Processing with Python and spaCy</td>\n      <td>283</td>\n    </tr>\n    <tr>\n      <th>9781430232377</th>\n      <td>[Magnus Lie Hetland]</td>\n      <td>eng</td>\n      <td>Python Algorithms: Mastering Basic Algorithms ...</td>\n      <td>624</td>\n    </tr>\n  </tbody>\n</table>\n<p>200 rows × 4 columns</p>\n</div>"
     },
     "metadata": {},
     "execution_count": 44
    }
   ],
   "source": [
    "data1"
   ]
  },
  {
   "cell_type": "code",
   "execution_count": 43,
   "metadata": {},
   "outputs": [],
   "source": [
    "data1[\"Language Code\"] = data1[\"Language Code\"].replace(\"en\", \"eng\")"
   ]
  },
  {
   "source": [
    "#### Goodreads"
   ],
   "cell_type": "markdown",
   "metadata": {}
  },
  {
   "cell_type": "code",
   "execution_count": null,
   "metadata": {},
   "outputs": [],
   "source": [
    "base_url = \"https://www.goodreads.com\""
   ]
  },
  {
   "cell_type": "code",
   "execution_count": null,
   "metadata": {},
   "outputs": [],
   "source": [
    "endpoint = \"/book/review_counts\"\n",
    "    # key: Developer key (required).\n",
    "    # isbns: Array of ISBNs or a comma separated string of ISBNs (1000 ISBNs per request max.)\n",
    "    # format: json\n",
    "    # callback: function to wrap JSON response"
   ]
  },
  {
   "cell_type": "code",
   "execution_count": null,
   "metadata": {},
   "outputs": [],
   "source": [
    "params = {\"key\": APIKEY, \"format\": \"json\", \"isbns\": 9781593276034}"
   ]
  },
  {
   "cell_type": "code",
   "execution_count": null,
   "metadata": {},
   "outputs": [],
   "source": [
    "res = requests.get(f\"{base_url}{endpoint}\", params=params)"
   ]
  },
  {
   "cell_type": "code",
   "execution_count": null,
   "metadata": {},
   "outputs": [],
   "source": [
    "data = res.json()"
   ]
  },
  {
   "cell_type": "code",
   "execution_count": null,
   "metadata": {},
   "outputs": [],
   "source": [
    "data"
   ]
  },
  {
   "cell_type": "code",
   "execution_count": 31,
   "metadata": {},
   "outputs": [
    {
     "output_type": "execute_result",
     "data": {
      "text/plain": "[]"
     },
     "metadata": {},
     "execution_count": 31
    }
   ],
   "source": [
    "list(range(0)"
   ]
  },
  {
   "cell_type": "code",
   "execution_count": 28,
   "metadata": {},
   "outputs": [
    {
     "output_type": "execute_result",
     "data": {
      "text/plain": "0"
     },
     "metadata": {},
     "execution_count": 28
    }
   ],
   "source": [
    "7//8"
   ]
  },
  {
   "cell_type": "code",
   "execution_count": 29,
   "metadata": {},
   "outputs": [
    {
     "output_type": "execute_result",
     "data": {
      "text/plain": "2"
     },
     "metadata": {},
     "execution_count": 29
    }
   ],
   "source": [
    "9//4"
   ]
  },
  {
   "cell_type": "code",
   "execution_count": null,
   "metadata": {},
   "outputs": [],
   "source": []
  }
 ]
}