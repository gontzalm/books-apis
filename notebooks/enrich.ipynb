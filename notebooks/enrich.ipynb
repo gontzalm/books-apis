{
 "metadata": {
  "language_info": {
   "codemirror_mode": {
    "name": "ipython",
    "version": 3
   },
   "file_extension": ".py",
   "mimetype": "text/x-python",
   "name": "python",
   "nbconvert_exporter": "python",
   "pygments_lexer": "ipython3",
   "version": "3.8.5-final"
  },
  "orig_nbformat": 2,
  "kernelspec": {
   "name": "python_defaultSpec_1600103027672",
   "display_name": "Python 3.8.5 64-bit ('ih': conda)"
  }
 },
 "nbformat": 4,
 "nbformat_minor": 2,
 "cells": [
  {
   "source": [
    "## Dataset Enreaching\n",
    "#### Import libraries and clean dataset"
   ],
   "cell_type": "markdown",
   "metadata": {}
  },
  {
   "cell_type": "code",
   "execution_count": 7,
   "metadata": {},
   "outputs": [],
   "source": [
    "from dotenv import load_dotenv\n",
    "import os\n",
    "import pandas as pd\n",
    "import re\n",
    "import requests\n",
    "from src.enrich import add_by_title, add_review_stats"
   ]
  },
  {
   "cell_type": "code",
   "execution_count": 2,
   "metadata": {},
   "outputs": [],
   "source": [
    "load_dotenv()\n",
    "APIKEY = os.getenv(\"APIKEY\")"
   ]
  },
  {
   "cell_type": "code",
   "execution_count": 3,
   "metadata": {},
   "outputs": [
    {
     "output_type": "execute_result",
     "data": {
      "text/plain": "                                                         Title  \\\nISBN                                                             \n8987059752         The World's First Love: Mary  Mother of God   \n20049130001                                     The Illuminati   \n23755004321                                 The Servant Leader   \n34406054602  What Life Was Like in the Jewel in the Crown: ...   \n49086007763  Cliffs Notes on Aristophanes' Lysistrata  The ...   \n\n                          Authors  Average Rating Language Code  Num Pages  \\\nISBN                                                                         \n8987059752        Fulton J. Sheen            4.58           eng        276   \n20049130001         Larry Burkett            3.71           eng        352   \n23755004321  Kenneth H. Blanchard            4.07           eng        128   \n34406054602      Time, Life Books            3.64           eng        168   \n49086007763      W. John Campbell            2.33           eng         80   \n\n             Ratings Count  Text Reviews Count  \nISBN                                            \n8987059752             571                  55  \n20049130001             59                   8  \n23755004321            256                  24  \n34406054602             42                   4  \n49086007763              3                   0  ",
      "text/html": "<div>\n<style scoped>\n    .dataframe tbody tr th:only-of-type {\n        vertical-align: middle;\n    }\n\n    .dataframe tbody tr th {\n        vertical-align: top;\n    }\n\n    .dataframe thead th {\n        text-align: right;\n    }\n</style>\n<table border=\"1\" class=\"dataframe\">\n  <thead>\n    <tr style=\"text-align: right;\">\n      <th></th>\n      <th>Title</th>\n      <th>Authors</th>\n      <th>Average Rating</th>\n      <th>Language Code</th>\n      <th>Num Pages</th>\n      <th>Ratings Count</th>\n      <th>Text Reviews Count</th>\n    </tr>\n    <tr>\n      <th>ISBN</th>\n      <th></th>\n      <th></th>\n      <th></th>\n      <th></th>\n      <th></th>\n      <th></th>\n      <th></th>\n    </tr>\n  </thead>\n  <tbody>\n    <tr>\n      <th>8987059752</th>\n      <td>The World's First Love: Mary  Mother of God</td>\n      <td>Fulton J. Sheen</td>\n      <td>4.58</td>\n      <td>eng</td>\n      <td>276</td>\n      <td>571</td>\n      <td>55</td>\n    </tr>\n    <tr>\n      <th>20049130001</th>\n      <td>The Illuminati</td>\n      <td>Larry Burkett</td>\n      <td>3.71</td>\n      <td>eng</td>\n      <td>352</td>\n      <td>59</td>\n      <td>8</td>\n    </tr>\n    <tr>\n      <th>23755004321</th>\n      <td>The Servant Leader</td>\n      <td>Kenneth H. Blanchard</td>\n      <td>4.07</td>\n      <td>eng</td>\n      <td>128</td>\n      <td>256</td>\n      <td>24</td>\n    </tr>\n    <tr>\n      <th>34406054602</th>\n      <td>What Life Was Like in the Jewel in the Crown: ...</td>\n      <td>Time, Life Books</td>\n      <td>3.64</td>\n      <td>eng</td>\n      <td>168</td>\n      <td>42</td>\n      <td>4</td>\n    </tr>\n    <tr>\n      <th>49086007763</th>\n      <td>Cliffs Notes on Aristophanes' Lysistrata  The ...</td>\n      <td>W. John Campbell</td>\n      <td>2.33</td>\n      <td>eng</td>\n      <td>80</td>\n      <td>3</td>\n      <td>0</td>\n    </tr>\n  </tbody>\n</table>\n</div>"
     },
     "metadata": {},
     "execution_count": 3
    }
   ],
   "source": [
    "books = pd.read_csv(\"../output/books_clean.csv\", index_col=\"ISBN\")\n",
    "books.head()"
   ]
  },
  {
   "source": [
    "#### Add books via O'Reilly Search API"
   ],
   "cell_type": "markdown",
   "metadata": {}
  },
  {
   "cell_type": "code",
   "execution_count": 9,
   "metadata": {},
   "outputs": [],
   "source": [
    "for topic in [\"python\", \"data analysis\", \"machine learning\"]:\n",
    "    books = add_by_title(books, topic)"
   ]
  },
  {
   "cell_type": "code",
   "execution_count": 10,
   "metadata": {},
   "outputs": [
    {
     "output_type": "execute_result",
     "data": {
      "text/plain": "                                                     Authors  Average Rating  \\\nISBN                                                                           \n9781449369415                 Andreas C. Müller, Sarah Guido             0.0   \n9780134845708                                    Mark Fenner             0.0   \n9781491989388                                    Chris Albon             0.0   \n9781119545637                                   Wei-Meng Lee             0.0   \n9781787125933             Sebastian Raschka, Vahid Mirjalili             0.0   \n...                                                      ...             ...   \n9781484232552              Rosendo Abellera, Lakshman Bulusu             0.0   \n9781484204450  Roger Barga, Valentine Fontama, Wee Hyong Tok             0.0   \n9781491936344                              Stephen F. Elston             0.0   \n9781118618042                                     Jared Dean             0.0   \n9781484209646                                Mohammed Guller             0.0   \n\n              Language Code  Num Pages  Ratings Count  Text Reviews Count  \\\nISBN                                                                        \n9781449369415           eng        549              0                   0   \n9780134845708           eng        986              0                   0   \n9781491989388           eng        383              0                   0   \n9781119545637           eng        350              0                   0   \n9781787125933           eng        794              0                   0   \n...                     ...        ...            ...                 ...   \n9781484232552           eng        298              0                   0   \n9781484204450           eng        225              0                   0   \n9781491936344           eng         68              0                   0   \n9781118618042           eng        340              0                   0   \n9781484209646           eng        432              0                   0   \n\n                                                           Title  \nISBN                                                              \n9781449369415       Introduction to Machine Learning with Python  \n9780134845708          Machine Learning with Python for Everyone  \n9781491989388              Machine Learning with Python Cookbook  \n9781119545637                            Python Machine Learning  \n9781787125933                            Python Machine Learning  \n...                                                          ...  \n9781484232552  Oracle Business Intelligence with Machine Lear...  \n9781484204450  Predictive Analytics with Microsoft Azure Mach...  \n9781491936344  Data Science in the Cloud with Microsoft Azure...  \n9781118618042  Big Data, Data Mining, and Machine Learning: V...  \n9781484209646  Big Data Analytics with Spark: A Practitioner’...  \n\n[243 rows x 7 columns]",
      "text/html": "<div>\n<style scoped>\n    .dataframe tbody tr th:only-of-type {\n        vertical-align: middle;\n    }\n\n    .dataframe tbody tr th {\n        vertical-align: top;\n    }\n\n    .dataframe thead th {\n        text-align: right;\n    }\n</style>\n<table border=\"1\" class=\"dataframe\">\n  <thead>\n    <tr style=\"text-align: right;\">\n      <th></th>\n      <th>Authors</th>\n      <th>Average Rating</th>\n      <th>Language Code</th>\n      <th>Num Pages</th>\n      <th>Ratings Count</th>\n      <th>Text Reviews Count</th>\n      <th>Title</th>\n    </tr>\n    <tr>\n      <th>ISBN</th>\n      <th></th>\n      <th></th>\n      <th></th>\n      <th></th>\n      <th></th>\n      <th></th>\n      <th></th>\n    </tr>\n  </thead>\n  <tbody>\n    <tr>\n      <th>9781449369415</th>\n      <td>Andreas C. Müller, Sarah Guido</td>\n      <td>0.0</td>\n      <td>eng</td>\n      <td>549</td>\n      <td>0</td>\n      <td>0</td>\n      <td>Introduction to Machine Learning with Python</td>\n    </tr>\n    <tr>\n      <th>9780134845708</th>\n      <td>Mark Fenner</td>\n      <td>0.0</td>\n      <td>eng</td>\n      <td>986</td>\n      <td>0</td>\n      <td>0</td>\n      <td>Machine Learning with Python for Everyone</td>\n    </tr>\n    <tr>\n      <th>9781491989388</th>\n      <td>Chris Albon</td>\n      <td>0.0</td>\n      <td>eng</td>\n      <td>383</td>\n      <td>0</td>\n      <td>0</td>\n      <td>Machine Learning with Python Cookbook</td>\n    </tr>\n    <tr>\n      <th>9781119545637</th>\n      <td>Wei-Meng Lee</td>\n      <td>0.0</td>\n      <td>eng</td>\n      <td>350</td>\n      <td>0</td>\n      <td>0</td>\n      <td>Python Machine Learning</td>\n    </tr>\n    <tr>\n      <th>9781787125933</th>\n      <td>Sebastian Raschka, Vahid Mirjalili</td>\n      <td>0.0</td>\n      <td>eng</td>\n      <td>794</td>\n      <td>0</td>\n      <td>0</td>\n      <td>Python Machine Learning</td>\n    </tr>\n    <tr>\n      <th>...</th>\n      <td>...</td>\n      <td>...</td>\n      <td>...</td>\n      <td>...</td>\n      <td>...</td>\n      <td>...</td>\n      <td>...</td>\n    </tr>\n    <tr>\n      <th>9781484232552</th>\n      <td>Rosendo Abellera, Lakshman Bulusu</td>\n      <td>0.0</td>\n      <td>eng</td>\n      <td>298</td>\n      <td>0</td>\n      <td>0</td>\n      <td>Oracle Business Intelligence with Machine Lear...</td>\n    </tr>\n    <tr>\n      <th>9781484204450</th>\n      <td>Roger Barga, Valentine Fontama, Wee Hyong Tok</td>\n      <td>0.0</td>\n      <td>eng</td>\n      <td>225</td>\n      <td>0</td>\n      <td>0</td>\n      <td>Predictive Analytics with Microsoft Azure Mach...</td>\n    </tr>\n    <tr>\n      <th>9781491936344</th>\n      <td>Stephen F. Elston</td>\n      <td>0.0</td>\n      <td>eng</td>\n      <td>68</td>\n      <td>0</td>\n      <td>0</td>\n      <td>Data Science in the Cloud with Microsoft Azure...</td>\n    </tr>\n    <tr>\n      <th>9781118618042</th>\n      <td>Jared Dean</td>\n      <td>0.0</td>\n      <td>eng</td>\n      <td>340</td>\n      <td>0</td>\n      <td>0</td>\n      <td>Big Data, Data Mining, and Machine Learning: V...</td>\n    </tr>\n    <tr>\n      <th>9781484209646</th>\n      <td>Mohammed Guller</td>\n      <td>0.0</td>\n      <td>eng</td>\n      <td>432</td>\n      <td>0</td>\n      <td>0</td>\n      <td>Big Data Analytics with Spark: A Practitioner’...</td>\n    </tr>\n  </tbody>\n</table>\n<p>243 rows × 7 columns</p>\n</div>"
     },
     "metadata": {},
     "execution_count": 10
    }
   ],
   "source": [
    "books[books[\"Title\"].str.contains(r\"machine learning\", flags=re.IGNORECASE)]"
   ]
  },
  {
   "source": [
    "#### Add review stats via Goodreads API"
   ],
   "cell_type": "markdown",
   "metadata": {}
  },
  {
   "cell_type": "code",
   "execution_count": 5,
   "metadata": {},
   "outputs": [],
   "source": [
    "add_review_stats(books)"
   ]
  },
  {
   "cell_type": "code",
   "execution_count": null,
   "metadata": {},
   "outputs": [],
   "source": [
    "books[books[\"Title\"].str.contains(r\"machine learning\", flags=re.IGNORECASE)]"
   ]
  },
  {
   "source": [
    "#### Export to `.csv`"
   ],
   "cell_type": "markdown",
   "metadata": {}
  },
  {
   "cell_type": "code",
   "execution_count": null,
   "metadata": {},
   "outputs": [],
   "source": [
    "books.to_csv(\"../output/books_enriched.csv\")"
   ]
  }
 ]
}